{
 "cells": [
  {
   "cell_type": "markdown",
   "metadata": {},
   "source": [
    "# Planning\n",
    "\n",
    "In this notebook, we will work with the following skills that assist in planning:\n",
    "\n",
    "1. Identifier transformation \n",
    "1. Identifier coding\n",
    "1. Data mockups"
   ]
  },
  {
   "cell_type": "code",
   "execution_count": 1,
   "metadata": {},
   "outputs": [],
   "source": [
    "import pandas as pd"
   ]
  },
  {
   "cell_type": "markdown",
   "metadata": {},
   "source": [
    "# Identifier transformation\n",
    "\n",
    "As we discussed before, a key planning issue is ensuring that we have a strategy for having identifiers across our component datasets that allow for merging and other transformations that we need.\n",
    "For many of our archival datasets, we typically have one or more identifiers, and we often need to transform or cross reference those.\n",
    "We can think of this as the easiest case: identifiers are built in, even if they have some nuances for us to navigate.\n",
    "\n",
    "**Note:** We're using macro research identifiers as examples here, but identifier planning matters generally across levels and research designs."
   ]
  },
  {
   "cell_type": "markdown",
   "metadata": {},
   "source": [
    "## CUSIP\n",
    "\n",
    "CUSIP is an identifier used in the securities industry, and it's used in multiple databases, including [Compustat](http://office.banker.thomsonib.com/ta/help/glossaryhelp/CompustatGlossaryC.htm#CUSIP). It has multiple forms and components, detailed below:\n",
    "\n",
    "component | format | notes\n",
    "-----|-----------|---------------\n",
    "Issuer code|six character string|Issuer (firm) level identifier.\n",
    "Issue number|two character string|Issue (e.g., stock class, bond issue) level identifier.\n",
    "Check digit|one character string|Basically a checksum digit, an old data integrity technique.\n",
    "\n",
    "In archival databases, a six-digit CUSIP is the issuer code, an eight-digit CUSIP contains the issuer code and issue number, and the nine-digit CUSIP includes all three components.\n",
    "Because these individual parts are in the same positions, we can convert any CUSIP variant down to a shorter one.\n",
    "In addition, because the common stock of a firm typically gets the issue code `10`, we can upconvert six-digit CUSIPs to eight-digit CUSIPs, if we are willing to accept some missing identifiers (an important qualification)."
   ]
  },
  {
   "cell_type": "code",
   "execution_count": 2,
   "metadata": {},
   "outputs": [
    {
     "data": {
      "text/html": [
       "<div>\n",
       "<style scoped>\n",
       "    .dataframe tbody tr th:only-of-type {\n",
       "        vertical-align: middle;\n",
       "    }\n",
       "\n",
       "    .dataframe tbody tr th {\n",
       "        vertical-align: top;\n",
       "    }\n",
       "\n",
       "    .dataframe thead th {\n",
       "        text-align: right;\n",
       "    }\n",
       "</style>\n",
       "<table border=\"1\" class=\"dataframe\">\n",
       "  <thead>\n",
       "    <tr style=\"text-align: right;\">\n",
       "      <th></th>\n",
       "      <th>name</th>\n",
       "      <th>cusip</th>\n",
       "    </tr>\n",
       "  </thead>\n",
       "  <tbody>\n",
       "    <tr>\n",
       "      <th>0</th>\n",
       "      <td>Apple</td>\n",
       "      <td>037833100</td>\n",
       "    </tr>\n",
       "    <tr>\n",
       "      <th>1</th>\n",
       "      <td>Microsoft</td>\n",
       "      <td>594918104</td>\n",
       "    </tr>\n",
       "    <tr>\n",
       "      <th>2</th>\n",
       "      <td>Berkshire Hathaway</td>\n",
       "      <td>084670702</td>\n",
       "    </tr>\n",
       "  </tbody>\n",
       "</table>\n",
       "</div>"
      ],
      "text/plain": [
       "                 name      cusip\n",
       "0               Apple  037833100\n",
       "1           Microsoft  594918104\n",
       "2  Berkshire Hathaway  084670702"
      ]
     },
     "execution_count": 2,
     "metadata": {},
     "output_type": "execute_result"
    }
   ],
   "source": [
    "# CUSIP Examples\n",
    "cusips = pd.DataFrame([\n",
    "    {'name': 'Apple',\n",
    "     'cusip': '037833100'},\n",
    "    {'name': 'Microsoft',\n",
    "     'cusip': '594918104'},\n",
    "    {'name': 'Berkshire Hathaway',\n",
    "     'cusip': '084670702'},\n",
    "])\n",
    "\n",
    "cusips.head()"
   ]
  },
  {
   "cell_type": "code",
   "execution_count": 3,
   "metadata": {},
   "outputs": [],
   "source": [
    "for v in [6, 8, 9]:\n",
    "    cusips['id_cusip' + str(v)] = cusips['cusip'].str.slice(0, v)"
   ]
  },
  {
   "cell_type": "code",
   "execution_count": 4,
   "metadata": {},
   "outputs": [
    {
     "data": {
      "text/html": [
       "<div>\n",
       "<style scoped>\n",
       "    .dataframe tbody tr th:only-of-type {\n",
       "        vertical-align: middle;\n",
       "    }\n",
       "\n",
       "    .dataframe tbody tr th {\n",
       "        vertical-align: top;\n",
       "    }\n",
       "\n",
       "    .dataframe thead th {\n",
       "        text-align: right;\n",
       "    }\n",
       "</style>\n",
       "<table border=\"1\" class=\"dataframe\">\n",
       "  <thead>\n",
       "    <tr style=\"text-align: right;\">\n",
       "      <th></th>\n",
       "      <th>name</th>\n",
       "      <th>cusip</th>\n",
       "      <th>id_cusip6</th>\n",
       "      <th>id_cusip8</th>\n",
       "      <th>id_cusip9</th>\n",
       "    </tr>\n",
       "  </thead>\n",
       "  <tbody>\n",
       "    <tr>\n",
       "      <th>0</th>\n",
       "      <td>Apple</td>\n",
       "      <td>037833100</td>\n",
       "      <td>037833</td>\n",
       "      <td>03783310</td>\n",
       "      <td>037833100</td>\n",
       "    </tr>\n",
       "    <tr>\n",
       "      <th>1</th>\n",
       "      <td>Microsoft</td>\n",
       "      <td>594918104</td>\n",
       "      <td>594918</td>\n",
       "      <td>59491810</td>\n",
       "      <td>594918104</td>\n",
       "    </tr>\n",
       "    <tr>\n",
       "      <th>2</th>\n",
       "      <td>Berkshire Hathaway</td>\n",
       "      <td>084670702</td>\n",
       "      <td>084670</td>\n",
       "      <td>08467070</td>\n",
       "      <td>084670702</td>\n",
       "    </tr>\n",
       "  </tbody>\n",
       "</table>\n",
       "</div>"
      ],
      "text/plain": [
       "                 name      cusip id_cusip6 id_cusip8  id_cusip9\n",
       "0               Apple  037833100    037833  03783310  037833100\n",
       "1           Microsoft  594918104    594918  59491810  594918104\n",
       "2  Berkshire Hathaway  084670702    084670  08467070  084670702"
      ]
     },
     "execution_count": 4,
     "metadata": {},
     "output_type": "execute_result"
    }
   ],
   "source": [
    "cusips.head()"
   ]
  },
  {
   "cell_type": "markdown",
   "metadata": {},
   "source": [
    "Notice that Berkshire Hathaway has an issue number of `70`, not `10`.\n",
    "This is a case where a firm has multiple share classes, and one other than `10` is the most numerous (the Compustat criterion for choosing an issue to use as a firm identifier)."
   ]
  },
  {
   "cell_type": "markdown",
   "metadata": {},
   "source": [
    "## GVKEY\n",
    "\n",
    "GVKEY is Compustat's primary identifier.\n",
    "It's a six character identifier, which is largely an integer, but the leading zeros are included in some datasets.\n",
    "Filling with leading zeros is a transformation we sometimes need to do to facilitate merging later."
   ]
  },
  {
   "cell_type": "code",
   "execution_count": 5,
   "metadata": {},
   "outputs": [
    {
     "data": {
      "text/html": [
       "<div>\n",
       "<style scoped>\n",
       "    .dataframe tbody tr th:only-of-type {\n",
       "        vertical-align: middle;\n",
       "    }\n",
       "\n",
       "    .dataframe tbody tr th {\n",
       "        vertical-align: top;\n",
       "    }\n",
       "\n",
       "    .dataframe thead th {\n",
       "        text-align: right;\n",
       "    }\n",
       "</style>\n",
       "<table border=\"1\" class=\"dataframe\">\n",
       "  <thead>\n",
       "    <tr style=\"text-align: right;\">\n",
       "      <th></th>\n",
       "      <th>name</th>\n",
       "      <th>gvkey</th>\n",
       "    </tr>\n",
       "  </thead>\n",
       "  <tbody>\n",
       "    <tr>\n",
       "      <th>0</th>\n",
       "      <td>Apple</td>\n",
       "      <td>1690</td>\n",
       "    </tr>\n",
       "    <tr>\n",
       "      <th>1</th>\n",
       "      <td>Microsoft</td>\n",
       "      <td>12141</td>\n",
       "    </tr>\n",
       "    <tr>\n",
       "      <th>2</th>\n",
       "      <td>Berkshire Hathaway</td>\n",
       "      <td>2176</td>\n",
       "    </tr>\n",
       "  </tbody>\n",
       "</table>\n",
       "</div>"
      ],
      "text/plain": [
       "                 name  gvkey\n",
       "0               Apple   1690\n",
       "1           Microsoft  12141\n",
       "2  Berkshire Hathaway   2176"
      ]
     },
     "execution_count": 5,
     "metadata": {},
     "output_type": "execute_result"
    }
   ],
   "source": [
    "gvkeys = pd.DataFrame([\n",
    "    {'name': 'Apple',\n",
    "     'gvkey': '1690'},\n",
    "    {'name': 'Microsoft',\n",
    "     'gvkey': '12141'},\n",
    "    {'name': 'Berkshire Hathaway',\n",
    "     'gvkey': '2176'},\n",
    "])\n",
    "\n",
    "gvkeys.head()"
   ]
  },
  {
   "cell_type": "code",
   "execution_count": 6,
   "metadata": {},
   "outputs": [
    {
     "data": {
      "text/html": [
       "<div>\n",
       "<style scoped>\n",
       "    .dataframe tbody tr th:only-of-type {\n",
       "        vertical-align: middle;\n",
       "    }\n",
       "\n",
       "    .dataframe tbody tr th {\n",
       "        vertical-align: top;\n",
       "    }\n",
       "\n",
       "    .dataframe thead th {\n",
       "        text-align: right;\n",
       "    }\n",
       "</style>\n",
       "<table border=\"1\" class=\"dataframe\">\n",
       "  <thead>\n",
       "    <tr style=\"text-align: right;\">\n",
       "      <th></th>\n",
       "      <th>name</th>\n",
       "      <th>gvkey</th>\n",
       "    </tr>\n",
       "  </thead>\n",
       "  <tbody>\n",
       "    <tr>\n",
       "      <th>0</th>\n",
       "      <td>Apple</td>\n",
       "      <td>001690</td>\n",
       "    </tr>\n",
       "    <tr>\n",
       "      <th>1</th>\n",
       "      <td>Microsoft</td>\n",
       "      <td>012141</td>\n",
       "    </tr>\n",
       "    <tr>\n",
       "      <th>2</th>\n",
       "      <td>Berkshire Hathaway</td>\n",
       "      <td>002176</td>\n",
       "    </tr>\n",
       "  </tbody>\n",
       "</table>\n",
       "</div>"
      ],
      "text/plain": [
       "                 name   gvkey\n",
       "0               Apple  001690\n",
       "1           Microsoft  012141\n",
       "2  Berkshire Hathaway  002176"
      ]
     },
     "execution_count": 6,
     "metadata": {},
     "output_type": "execute_result"
    }
   ],
   "source": [
    "gvkeys['gvkey'] = gvkeys['gvkey'].str.zfill(6)\n",
    "gvkeys.head()"
   ]
  },
  {
   "cell_type": "markdown",
   "metadata": {},
   "source": [
    "## Converting identifiers\n",
    "\n",
    "For these identifiers and others (e.g., PERMNO, PERMCO, CIK), WRDS has [linked data](https://wrds-www.wharton.upenn.edu/pages/support/data-overview/wrds-overview-crspcompustat-merged-ccm/) for converting identifiers."
   ]
  },
  {
   "cell_type": "markdown",
   "metadata": {},
   "source": [
    "# Identifier coding\n",
    "\n",
    "At times, we encounter datasets or entire projects with no coordinated identifers across the data.\n",
    "With no identifier throughout the project, the solution is relatively simple: take your base-level data (i.e. the data at the intended final data level), assign identifiers to each row (I suggest integers starting with `1`), and use those identifiers throughout.\n",
    "\n",
    "At other times, we need to code identifiers in order to match up with our other data.\n",
    "This is the case we focus on below.\n",
    "\n",
    "In the example data below, we would like to code a firm-level identifier."
   ]
  },
  {
   "cell_type": "code",
   "execution_count": 7,
   "metadata": {},
   "outputs": [
    {
     "data": {
      "text/html": [
       "<div>\n",
       "<style scoped>\n",
       "    .dataframe tbody tr th:only-of-type {\n",
       "        vertical-align: middle;\n",
       "    }\n",
       "\n",
       "    .dataframe tbody tr th {\n",
       "        vertical-align: top;\n",
       "    }\n",
       "\n",
       "    .dataframe thead th {\n",
       "        text-align: right;\n",
       "    }\n",
       "</style>\n",
       "<table border=\"1\" class=\"dataframe\">\n",
       "  <thead>\n",
       "    <tr style=\"text-align: right;\">\n",
       "      <th></th>\n",
       "      <th>name</th>\n",
       "      <th>year</th>\n",
       "    </tr>\n",
       "  </thead>\n",
       "  <tbody>\n",
       "    <tr>\n",
       "      <th>0</th>\n",
       "      <td>Apple</td>\n",
       "      <td>2018</td>\n",
       "    </tr>\n",
       "    <tr>\n",
       "      <th>1</th>\n",
       "      <td>Apple</td>\n",
       "      <td>2019</td>\n",
       "    </tr>\n",
       "    <tr>\n",
       "      <th>2</th>\n",
       "      <td>Apple</td>\n",
       "      <td>2020</td>\n",
       "    </tr>\n",
       "    <tr>\n",
       "      <th>3</th>\n",
       "      <td>Microsoft</td>\n",
       "      <td>2018</td>\n",
       "    </tr>\n",
       "    <tr>\n",
       "      <th>4</th>\n",
       "      <td>Microsoft</td>\n",
       "      <td>2019</td>\n",
       "    </tr>\n",
       "    <tr>\n",
       "      <th>5</th>\n",
       "      <td>Microsoft</td>\n",
       "      <td>2020</td>\n",
       "    </tr>\n",
       "    <tr>\n",
       "      <th>6</th>\n",
       "      <td>Berkshire Hathaway</td>\n",
       "      <td>2018</td>\n",
       "    </tr>\n",
       "    <tr>\n",
       "      <th>7</th>\n",
       "      <td>Berkshire Hathaway</td>\n",
       "      <td>2019</td>\n",
       "    </tr>\n",
       "    <tr>\n",
       "      <th>8</th>\n",
       "      <td>Berkshire Hathaway</td>\n",
       "      <td>2020</td>\n",
       "    </tr>\n",
       "  </tbody>\n",
       "</table>\n",
       "</div>"
      ],
      "text/plain": [
       "                 name  year\n",
       "0               Apple  2018\n",
       "1               Apple  2019\n",
       "2               Apple  2020\n",
       "3           Microsoft  2018\n",
       "4           Microsoft  2019\n",
       "5           Microsoft  2020\n",
       "6  Berkshire Hathaway  2018\n",
       "7  Berkshire Hathaway  2019\n",
       "8  Berkshire Hathaway  2020"
      ]
     },
     "execution_count": 7,
     "metadata": {},
     "output_type": "execute_result"
    }
   ],
   "source": [
    "coding = pd.DataFrame([\n",
    "    {'name': 'Apple',\n",
    "     'year': '2018'},\n",
    "    {'name': 'Apple',\n",
    "     'year': '2019'},\n",
    "    {'name': 'Apple',\n",
    "     'year': '2020'},\n",
    "    {'name': 'Microsoft',\n",
    "     'year': '2018'},\n",
    "    {'name': 'Microsoft',\n",
    "     'year': '2019'},\n",
    "    {'name': 'Microsoft',\n",
    "     'year': '2020'},\n",
    "    {'name': 'Berkshire Hathaway',\n",
    "     'year': '2018'},\n",
    "    {'name': 'Berkshire Hathaway',\n",
    "     'year': '2019'},\n",
    "    {'name': 'Berkshire Hathaway',\n",
    "     'year': '2020'}\n",
    "])\n",
    "\n",
    "coding.head(10)"
   ]
  },
  {
   "cell_type": "markdown",
   "metadata": {},
   "source": [
    "The first thing to notice about this data is that each firm appears multiple times.\n",
    "In practical data parlance, this column has relatively low **cardinality** (i.e. the uniqueness of the items in the column compared to its length).\n",
    "When coding something durable like identifiers, we like to see this, because we will only need to look up each value once."
   ]
  },
  {
   "cell_type": "code",
   "execution_count": 8,
   "metadata": {},
   "outputs": [
    {
     "data": {
      "text/plain": [
       "array(['Apple', 'Microsoft', 'Berkshire Hathaway'], dtype=object)"
      ]
     },
     "execution_count": 8,
     "metadata": {},
     "output_type": "execute_result"
    }
   ],
   "source": [
    "# We can get unique values of a column with the unique method.\n",
    "coding['name'].unique()"
   ]
  },
  {
   "cell_type": "code",
   "execution_count": 9,
   "metadata": {},
   "outputs": [
    {
     "data": {
      "text/html": [
       "<div>\n",
       "<style scoped>\n",
       "    .dataframe tbody tr th:only-of-type {\n",
       "        vertical-align: middle;\n",
       "    }\n",
       "\n",
       "    .dataframe tbody tr th {\n",
       "        vertical-align: top;\n",
       "    }\n",
       "\n",
       "    .dataframe thead th {\n",
       "        text-align: right;\n",
       "    }\n",
       "</style>\n",
       "<table border=\"1\" class=\"dataframe\">\n",
       "  <thead>\n",
       "    <tr style=\"text-align: right;\">\n",
       "      <th></th>\n",
       "      <th>name</th>\n",
       "    </tr>\n",
       "  </thead>\n",
       "  <tbody>\n",
       "    <tr>\n",
       "      <th>0</th>\n",
       "      <td>Apple</td>\n",
       "    </tr>\n",
       "    <tr>\n",
       "      <th>1</th>\n",
       "      <td>Microsoft</td>\n",
       "    </tr>\n",
       "    <tr>\n",
       "      <th>2</th>\n",
       "      <td>Berkshire Hathaway</td>\n",
       "    </tr>\n",
       "  </tbody>\n",
       "</table>\n",
       "</div>"
      ],
      "text/plain": [
       "                 name\n",
       "0               Apple\n",
       "1           Microsoft\n",
       "2  Berkshire Hathaway"
      ]
     },
     "execution_count": 9,
     "metadata": {},
     "output_type": "execute_result"
    }
   ],
   "source": [
    "# We can make a new dataframe with those unique values.\n",
    "code_table = pd.DataFrame(coding['name'].unique())\n",
    "code_table = code_table.rename(columns={0: 'name'})\n",
    "code_table.head()"
   ]
  },
  {
   "cell_type": "code",
   "execution_count": 10,
   "metadata": {},
   "outputs": [
    {
     "data": {
      "text/html": [
       "<div>\n",
       "<style scoped>\n",
       "    .dataframe tbody tr th:only-of-type {\n",
       "        vertical-align: middle;\n",
       "    }\n",
       "\n",
       "    .dataframe tbody tr th {\n",
       "        vertical-align: top;\n",
       "    }\n",
       "\n",
       "    .dataframe thead th {\n",
       "        text-align: right;\n",
       "    }\n",
       "</style>\n",
       "<table border=\"1\" class=\"dataframe\">\n",
       "  <thead>\n",
       "    <tr style=\"text-align: right;\">\n",
       "      <th></th>\n",
       "      <th>name</th>\n",
       "      <th>gvkey</th>\n",
       "      <th>source</th>\n",
       "      <th>coder</th>\n",
       "      <th>flag</th>\n",
       "      <th>notes</th>\n",
       "    </tr>\n",
       "  </thead>\n",
       "  <tbody>\n",
       "    <tr>\n",
       "      <th>0</th>\n",
       "      <td>Apple</td>\n",
       "      <td></td>\n",
       "      <td></td>\n",
       "      <td></td>\n",
       "      <td></td>\n",
       "      <td></td>\n",
       "    </tr>\n",
       "    <tr>\n",
       "      <th>1</th>\n",
       "      <td>Microsoft</td>\n",
       "      <td></td>\n",
       "      <td></td>\n",
       "      <td></td>\n",
       "      <td></td>\n",
       "      <td></td>\n",
       "    </tr>\n",
       "    <tr>\n",
       "      <th>2</th>\n",
       "      <td>Berkshire Hathaway</td>\n",
       "      <td></td>\n",
       "      <td></td>\n",
       "      <td></td>\n",
       "      <td></td>\n",
       "      <td></td>\n",
       "    </tr>\n",
       "  </tbody>\n",
       "</table>\n",
       "</div>"
      ],
      "text/plain": [
       "                 name gvkey source coder flag notes\n",
       "0               Apple                              \n",
       "1           Microsoft                              \n",
       "2  Berkshire Hathaway                              "
      ]
     },
     "execution_count": 10,
     "metadata": {},
     "output_type": "execute_result"
    }
   ],
   "source": [
    "# Then, we can populate new columns for use in coding.\n",
    "for new_col in ['gvkey', 'source', 'coder', 'flag', 'notes']:\n",
    "    code_table[new_col] = ''\n",
    "code_table.head()"
   ]
  },
  {
   "cell_type": "markdown",
   "metadata": {},
   "source": [
    "We can then write this as a CSV, code it, read it back in, and use it to add identifiers to this dataframe.\n",
    "We'll talk more about the mechanics of this kind of cosing in human coding data retrieval segment."
   ]
  },
  {
   "cell_type": "markdown",
   "metadata": {},
   "source": [
    "# Data mockups\n",
    "\n",
    "At the planning and pilot study stage, we may have a complex and labor-intensive data collection yet to do.\n",
    "As a result, we will not have some of the data that we need in order to make sure that we can fit everything together.\n",
    "\n",
    "A data mockup is a form of data that we create—often manually—to simulate the form of the data that we will retrieve in a subsequent collection.\n",
    "This is common for data obtained by web scraping, human coding, or other time-intensive processes.\n",
    "Before starting such a collection, we need to know that it will produce the data that we need.\n",
    "If we are designing the collection ourselves, it may serve as a target for the form of data produced.\n",
    "\n",
    "My favorite tool for producing data mockups is a manually-created CSV file.\n",
    "Unlike Excel spreadsheets (with a lot of internal complexity and sometimes well-intended but harmful automatic behavior), a CSV file is what the name describes: comma-separated values.\n",
    "To make one manually, we simply type (or, more likely, copy and paste) into a file in a text editor."
   ]
  },
  {
   "cell_type": "markdown",
   "metadata": {},
   "source": [
    "## CSV example\n",
    "\n",
    "The contents of a CSV file look like this:\n",
    "\n",
    "```csv\n",
    "price,tic,yr\n",
    "86.13,msft,2018\n",
    "62.79,msft,2017\n",
    "54.32,msft,2016\n",
    "\n",
    "```\n",
    "\n",
    "Also, though it's beyond the scope of the course, using regular expressions in VS Code find/replace can often format raw data quickly into a CSV format. "
   ]
  },
  {
   "cell_type": "markdown",
   "metadata": {},
   "source": [
    "# Q&A: Planning\n",
    "\n",
    "At the end, we will chat as one big group about issues that you foresee in your own planning."
   ]
  }
 ],
 "metadata": {
  "kernelspec": {
   "display_name": "Python 3",
   "language": "python",
   "name": "python3"
  },
  "language_info": {
   "codemirror_mode": {
    "name": "ipython",
    "version": 3
   },
   "file_extension": ".py",
   "mimetype": "text/x-python",
   "name": "python",
   "nbconvert_exporter": "python",
   "pygments_lexer": "ipython3",
   "version": "3.8.10"
  }
 },
 "nbformat": 4,
 "nbformat_minor": 4
}
